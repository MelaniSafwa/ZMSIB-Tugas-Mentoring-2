{
  "nbformat": 4,
  "nbformat_minor": 0,
  "metadata": {
    "colab": {
      "provenance": []
    },
    "kernelspec": {
      "name": "python3",
      "display_name": "Python 3"
    },
    "language_info": {
      "name": "python"
    }
  },
  "cells": [
    {
      "cell_type": "code",
      "source": [
        "!pwd"
      ],
      "metadata": {
        "colab": {
          "base_uri": "https://localhost:8080/"
        },
        "id": "-bOZzdOIqjQg",
        "outputId": "cdd5460a-ec12-4ac3-89cb-b62e6766b1ac"
      },
      "execution_count": null,
      "outputs": [
        {
          "output_type": "stream",
          "name": "stdout",
          "text": [
            "/content\n"
          ]
        }
      ]
    },
    {
      "cell_type": "code",
      "execution_count": null,
      "metadata": {
        "colab": {
          "base_uri": "https://localhost:8080/"
        },
        "id": "tAHPtVKooJgx",
        "outputId": "506c398a-b791-4b4a-bc37-669c8f3bff30"
      },
      "outputs": [
        {
          "output_type": "stream",
          "name": "stdout",
          "text": [
            "(139, 13)\n"
          ]
        }
      ],
      "source": [
        "#import library yang dibutuhkan\n",
        "import pandas as pd\n",
        "#mendefinisikan url dari dataset src: https://www.kaggle.com/datasets/rkiattisak/traveler-trip-data?resource=download\n",
        "url = \"drive/MyDrive/MSIB Zenius/Dataset/Travel details dataset.csv\"\n",
        "df =pd.read_csv(url)\n",
        "#menentukan dimensi dari dataset\n",
        "print(df.shape)"
      ]
    },
    {
      "cell_type": "code",
      "source": [
        "df.head(10)"
      ],
      "metadata": {
        "colab": {
          "base_uri": "https://localhost:8080/",
          "height": 635
        },
        "id": "xJ1I8yUMsZ5R",
        "outputId": "87bc4ca3-4886-4970-800d-e3b754178868"
      },
      "execution_count": null,
      "outputs": [
        {
          "output_type": "execute_result",
          "data": {
            "text/plain": [
              "   Trip ID                  Destination  Start date    End date  \\\n",
              "0        1                   London, UK    5/1/2023    5/8/2023   \n",
              "1        2             Phuket, Thailand   6/15/2023   6/20/2023   \n",
              "2        3              Bali, Indonesia    7/1/2023    7/8/2023   \n",
              "3        4                New York, USA   8/15/2023   8/29/2023   \n",
              "4        5                 Tokyo, Japan   9/10/2023   9/17/2023   \n",
              "5        6                Paris, France   10/5/2023  10/10/2023   \n",
              "6        7            Sydney, Australia  11/20/2023  11/30/2023   \n",
              "7        8       Rio de Janeiro, Brazil    1/5/2024   1/12/2024   \n",
              "8        9       Amsterdam, Netherlands   2/14/2024   2/21/2024   \n",
              "9       10  Dubai, United Arab Emirates   3/10/2024   3/17/2024   \n",
              "\n",
              "   Duration (days)  Traveler name  Traveler age Traveler gender  \\\n",
              "0              7.0     John Smith          35.0            Male   \n",
              "1              5.0       Jane Doe          28.0          Female   \n",
              "2              7.0      David Lee          45.0            Male   \n",
              "3             14.0  Sarah Johnson          29.0          Female   \n",
              "4              7.0     Kim Nguyen          26.0          Female   \n",
              "5              5.0  Michael Brown          42.0            Male   \n",
              "6             10.0    Emily Davis          33.0          Female   \n",
              "7              7.0   Lucas Santos          25.0            Male   \n",
              "8              7.0  Laura Janssen          31.0          Female   \n",
              "9              7.0   Mohammed Ali          39.0            Male   \n",
              "\n",
              "  Traveler nationality Accommodation type Accommodation cost  \\\n",
              "0             American              Hotel               1200   \n",
              "1             Canadian             Resort                800   \n",
              "2               Korean              Villa               1000   \n",
              "3              British              Hotel               2000   \n",
              "4           Vietnamese             Airbnb                700   \n",
              "5             American              Hotel               1500   \n",
              "6           Australian             Hostel                500   \n",
              "7            Brazilian             Airbnb                900   \n",
              "8                Dutch              Hotel               1200   \n",
              "9              Emirati             Resort               2500   \n",
              "\n",
              "  Transportation type Transportation cost  \n",
              "0              Flight                 600  \n",
              "1              Flight                 500  \n",
              "2              Flight                 700  \n",
              "3              Flight                1000  \n",
              "4               Train                 200  \n",
              "5              Flight                 800  \n",
              "6              Flight                1200  \n",
              "7              Flight                 600  \n",
              "8               Train                 200  \n",
              "9              Flight                 800  "
            ],
            "text/html": [
              "\n",
              "  <div id=\"df-9c98a4fd-3150-4e15-85db-a9d0d24fc42b\">\n",
              "    <div class=\"colab-df-container\">\n",
              "      <div>\n",
              "<style scoped>\n",
              "    .dataframe tbody tr th:only-of-type {\n",
              "        vertical-align: middle;\n",
              "    }\n",
              "\n",
              "    .dataframe tbody tr th {\n",
              "        vertical-align: top;\n",
              "    }\n",
              "\n",
              "    .dataframe thead th {\n",
              "        text-align: right;\n",
              "    }\n",
              "</style>\n",
              "<table border=\"1\" class=\"dataframe\">\n",
              "  <thead>\n",
              "    <tr style=\"text-align: right;\">\n",
              "      <th></th>\n",
              "      <th>Trip ID</th>\n",
              "      <th>Destination</th>\n",
              "      <th>Start date</th>\n",
              "      <th>End date</th>\n",
              "      <th>Duration (days)</th>\n",
              "      <th>Traveler name</th>\n",
              "      <th>Traveler age</th>\n",
              "      <th>Traveler gender</th>\n",
              "      <th>Traveler nationality</th>\n",
              "      <th>Accommodation type</th>\n",
              "      <th>Accommodation cost</th>\n",
              "      <th>Transportation type</th>\n",
              "      <th>Transportation cost</th>\n",
              "    </tr>\n",
              "  </thead>\n",
              "  <tbody>\n",
              "    <tr>\n",
              "      <th>0</th>\n",
              "      <td>1</td>\n",
              "      <td>London, UK</td>\n",
              "      <td>5/1/2023</td>\n",
              "      <td>5/8/2023</td>\n",
              "      <td>7.0</td>\n",
              "      <td>John Smith</td>\n",
              "      <td>35.0</td>\n",
              "      <td>Male</td>\n",
              "      <td>American</td>\n",
              "      <td>Hotel</td>\n",
              "      <td>1200</td>\n",
              "      <td>Flight</td>\n",
              "      <td>600</td>\n",
              "    </tr>\n",
              "    <tr>\n",
              "      <th>1</th>\n",
              "      <td>2</td>\n",
              "      <td>Phuket, Thailand</td>\n",
              "      <td>6/15/2023</td>\n",
              "      <td>6/20/2023</td>\n",
              "      <td>5.0</td>\n",
              "      <td>Jane Doe</td>\n",
              "      <td>28.0</td>\n",
              "      <td>Female</td>\n",
              "      <td>Canadian</td>\n",
              "      <td>Resort</td>\n",
              "      <td>800</td>\n",
              "      <td>Flight</td>\n",
              "      <td>500</td>\n",
              "    </tr>\n",
              "    <tr>\n",
              "      <th>2</th>\n",
              "      <td>3</td>\n",
              "      <td>Bali, Indonesia</td>\n",
              "      <td>7/1/2023</td>\n",
              "      <td>7/8/2023</td>\n",
              "      <td>7.0</td>\n",
              "      <td>David Lee</td>\n",
              "      <td>45.0</td>\n",
              "      <td>Male</td>\n",
              "      <td>Korean</td>\n",
              "      <td>Villa</td>\n",
              "      <td>1000</td>\n",
              "      <td>Flight</td>\n",
              "      <td>700</td>\n",
              "    </tr>\n",
              "    <tr>\n",
              "      <th>3</th>\n",
              "      <td>4</td>\n",
              "      <td>New York, USA</td>\n",
              "      <td>8/15/2023</td>\n",
              "      <td>8/29/2023</td>\n",
              "      <td>14.0</td>\n",
              "      <td>Sarah Johnson</td>\n",
              "      <td>29.0</td>\n",
              "      <td>Female</td>\n",
              "      <td>British</td>\n",
              "      <td>Hotel</td>\n",
              "      <td>2000</td>\n",
              "      <td>Flight</td>\n",
              "      <td>1000</td>\n",
              "    </tr>\n",
              "    <tr>\n",
              "      <th>4</th>\n",
              "      <td>5</td>\n",
              "      <td>Tokyo, Japan</td>\n",
              "      <td>9/10/2023</td>\n",
              "      <td>9/17/2023</td>\n",
              "      <td>7.0</td>\n",
              "      <td>Kim Nguyen</td>\n",
              "      <td>26.0</td>\n",
              "      <td>Female</td>\n",
              "      <td>Vietnamese</td>\n",
              "      <td>Airbnb</td>\n",
              "      <td>700</td>\n",
              "      <td>Train</td>\n",
              "      <td>200</td>\n",
              "    </tr>\n",
              "    <tr>\n",
              "      <th>5</th>\n",
              "      <td>6</td>\n",
              "      <td>Paris, France</td>\n",
              "      <td>10/5/2023</td>\n",
              "      <td>10/10/2023</td>\n",
              "      <td>5.0</td>\n",
              "      <td>Michael Brown</td>\n",
              "      <td>42.0</td>\n",
              "      <td>Male</td>\n",
              "      <td>American</td>\n",
              "      <td>Hotel</td>\n",
              "      <td>1500</td>\n",
              "      <td>Flight</td>\n",
              "      <td>800</td>\n",
              "    </tr>\n",
              "    <tr>\n",
              "      <th>6</th>\n",
              "      <td>7</td>\n",
              "      <td>Sydney, Australia</td>\n",
              "      <td>11/20/2023</td>\n",
              "      <td>11/30/2023</td>\n",
              "      <td>10.0</td>\n",
              "      <td>Emily Davis</td>\n",
              "      <td>33.0</td>\n",
              "      <td>Female</td>\n",
              "      <td>Australian</td>\n",
              "      <td>Hostel</td>\n",
              "      <td>500</td>\n",
              "      <td>Flight</td>\n",
              "      <td>1200</td>\n",
              "    </tr>\n",
              "    <tr>\n",
              "      <th>7</th>\n",
              "      <td>8</td>\n",
              "      <td>Rio de Janeiro, Brazil</td>\n",
              "      <td>1/5/2024</td>\n",
              "      <td>1/12/2024</td>\n",
              "      <td>7.0</td>\n",
              "      <td>Lucas Santos</td>\n",
              "      <td>25.0</td>\n",
              "      <td>Male</td>\n",
              "      <td>Brazilian</td>\n",
              "      <td>Airbnb</td>\n",
              "      <td>900</td>\n",
              "      <td>Flight</td>\n",
              "      <td>600</td>\n",
              "    </tr>\n",
              "    <tr>\n",
              "      <th>8</th>\n",
              "      <td>9</td>\n",
              "      <td>Amsterdam, Netherlands</td>\n",
              "      <td>2/14/2024</td>\n",
              "      <td>2/21/2024</td>\n",
              "      <td>7.0</td>\n",
              "      <td>Laura Janssen</td>\n",
              "      <td>31.0</td>\n",
              "      <td>Female</td>\n",
              "      <td>Dutch</td>\n",
              "      <td>Hotel</td>\n",
              "      <td>1200</td>\n",
              "      <td>Train</td>\n",
              "      <td>200</td>\n",
              "    </tr>\n",
              "    <tr>\n",
              "      <th>9</th>\n",
              "      <td>10</td>\n",
              "      <td>Dubai, United Arab Emirates</td>\n",
              "      <td>3/10/2024</td>\n",
              "      <td>3/17/2024</td>\n",
              "      <td>7.0</td>\n",
              "      <td>Mohammed Ali</td>\n",
              "      <td>39.0</td>\n",
              "      <td>Male</td>\n",
              "      <td>Emirati</td>\n",
              "      <td>Resort</td>\n",
              "      <td>2500</td>\n",
              "      <td>Flight</td>\n",
              "      <td>800</td>\n",
              "    </tr>\n",
              "  </tbody>\n",
              "</table>\n",
              "</div>\n",
              "      <button class=\"colab-df-convert\" onclick=\"convertToInteractive('df-9c98a4fd-3150-4e15-85db-a9d0d24fc42b')\"\n",
              "              title=\"Convert this dataframe to an interactive table.\"\n",
              "              style=\"display:none;\">\n",
              "        \n",
              "  <svg xmlns=\"http://www.w3.org/2000/svg\" height=\"24px\"viewBox=\"0 0 24 24\"\n",
              "       width=\"24px\">\n",
              "    <path d=\"M0 0h24v24H0V0z\" fill=\"none\"/>\n",
              "    <path d=\"M18.56 5.44l.94 2.06.94-2.06 2.06-.94-2.06-.94-.94-2.06-.94 2.06-2.06.94zm-11 1L8.5 8.5l.94-2.06 2.06-.94-2.06-.94L8.5 2.5l-.94 2.06-2.06.94zm10 10l.94 2.06.94-2.06 2.06-.94-2.06-.94-.94-2.06-.94 2.06-2.06.94z\"/><path d=\"M17.41 7.96l-1.37-1.37c-.4-.4-.92-.59-1.43-.59-.52 0-1.04.2-1.43.59L10.3 9.45l-7.72 7.72c-.78.78-.78 2.05 0 2.83L4 21.41c.39.39.9.59 1.41.59.51 0 1.02-.2 1.41-.59l7.78-7.78 2.81-2.81c.8-.78.8-2.07 0-2.86zM5.41 20L4 18.59l7.72-7.72 1.47 1.35L5.41 20z\"/>\n",
              "  </svg>\n",
              "      </button>\n",
              "      \n",
              "  <style>\n",
              "    .colab-df-container {\n",
              "      display:flex;\n",
              "      flex-wrap:wrap;\n",
              "      gap: 12px;\n",
              "    }\n",
              "\n",
              "    .colab-df-convert {\n",
              "      background-color: #E8F0FE;\n",
              "      border: none;\n",
              "      border-radius: 50%;\n",
              "      cursor: pointer;\n",
              "      display: none;\n",
              "      fill: #1967D2;\n",
              "      height: 32px;\n",
              "      padding: 0 0 0 0;\n",
              "      width: 32px;\n",
              "    }\n",
              "\n",
              "    .colab-df-convert:hover {\n",
              "      background-color: #E2EBFA;\n",
              "      box-shadow: 0px 1px 2px rgba(60, 64, 67, 0.3), 0px 1px 3px 1px rgba(60, 64, 67, 0.15);\n",
              "      fill: #174EA6;\n",
              "    }\n",
              "\n",
              "    [theme=dark] .colab-df-convert {\n",
              "      background-color: #3B4455;\n",
              "      fill: #D2E3FC;\n",
              "    }\n",
              "\n",
              "    [theme=dark] .colab-df-convert:hover {\n",
              "      background-color: #434B5C;\n",
              "      box-shadow: 0px 1px 3px 1px rgba(0, 0, 0, 0.15);\n",
              "      filter: drop-shadow(0px 1px 2px rgba(0, 0, 0, 0.3));\n",
              "      fill: #FFFFFF;\n",
              "    }\n",
              "  </style>\n",
              "\n",
              "      <script>\n",
              "        const buttonEl =\n",
              "          document.querySelector('#df-9c98a4fd-3150-4e15-85db-a9d0d24fc42b button.colab-df-convert');\n",
              "        buttonEl.style.display =\n",
              "          google.colab.kernel.accessAllowed ? 'block' : 'none';\n",
              "\n",
              "        async function convertToInteractive(key) {\n",
              "          const element = document.querySelector('#df-9c98a4fd-3150-4e15-85db-a9d0d24fc42b');\n",
              "          const dataTable =\n",
              "            await google.colab.kernel.invokeFunction('convertToInteractive',\n",
              "                                                     [key], {});\n",
              "          if (!dataTable) return;\n",
              "\n",
              "          const docLinkHtml = 'Like what you see? Visit the ' +\n",
              "            '<a target=\"_blank\" href=https://colab.research.google.com/notebooks/data_table.ipynb>data table notebook</a>'\n",
              "            + ' to learn more about interactive tables.';\n",
              "          element.innerHTML = '';\n",
              "          dataTable['output_type'] = 'display_data';\n",
              "          await google.colab.output.renderOutput(dataTable, element);\n",
              "          const docLink = document.createElement('div');\n",
              "          docLink.innerHTML = docLinkHtml;\n",
              "          element.appendChild(docLink);\n",
              "        }\n",
              "      </script>\n",
              "    </div>\n",
              "  </div>\n",
              "  "
            ]
          },
          "metadata": {},
          "execution_count": 29
        }
      ]
    },
    {
      "cell_type": "code",
      "source": [
        "print(df.groupby('Duration (days)').size())\n",
        "print(df.groupby('Traveler gender').size())"
      ],
      "metadata": {
        "colab": {
          "base_uri": "https://localhost:8080/"
        },
        "id": "CK31IBoPrMh9",
        "outputId": "3c2b6af0-e25c-47dd-e40c-e6039aa74dd4"
      },
      "execution_count": null,
      "outputs": [
        {
          "output_type": "stream",
          "name": "stdout",
          "text": [
            "Destination\n",
            "Amsterdam                      1\n",
            "Amsterdam, Netherlands         2\n",
            "Athens, Greece                 1\n",
            "Auckland, New Zealand          1\n",
            "Australia                      1\n",
            "Bali                           7\n",
            "Bali, Indonesia                5\n",
            "Bangkok                        4\n",
            "Bangkok, Thai                  1\n",
            "Bangkok, Thailand              3\n",
            "Barcelona                      2\n",
            "Barcelona, Spain               4\n",
            "Berlin, Germany                1\n",
            "Brazil                         1\n",
            "Canada                         1\n",
            "Cancun, Mexico                 4\n",
            "Cape Town                      2\n",
            "Cape Town, SA                  1\n",
            "Cape Town, South Africa        1\n",
            "Dubai                          2\n",
            "Dubai, United Arab Emirates    1\n",
            "Edinburgh, Scotland            1\n",
            "Egypt                          1\n",
            "France                         1\n",
            "Greece                         1\n",
            "Hawaii                         1\n",
            "Honolulu, Hawaii               1\n",
            "Italy                          1\n",
            "Japan                          1\n",
            "London                         4\n",
            "London, UK                     3\n",
            "Los Angeles, USA               1\n",
            "Marrakech, Morocco             1\n",
            "Mexico                         1\n",
            "New York                       5\n",
            "New York City, USA             2\n",
            "New York, USA                  3\n",
            "Paris                          7\n",
            "Paris, France                  7\n",
            "Phnom Penh                     1\n",
            "Phuket                         1\n",
            "Phuket, Thai                   1\n",
            "Phuket, Thailand               1\n",
            "Rio de Janeiro                 1\n",
            "Rio de Janeiro, Brazil         4\n",
            "Rome                           5\n",
            "Rome, Italy                    4\n",
            "Santorini                      1\n",
            "Seoul                          1\n",
            "Seoul, South Korea             1\n",
            "Spain                          1\n",
            "Sydney                         5\n",
            "Sydney, AUS                    1\n",
            "Sydney, Aus                    3\n",
            "Sydney, Australia              3\n",
            "Thailand                       1\n",
            "Tokyo                          5\n",
            "Tokyo, Japan                   7\n",
            "Vancouver, Canada              2\n",
            "dtype: int64\n",
            "Duration (days)\n",
            "5.0     10\n",
            "6.0     16\n",
            "7.0     54\n",
            "8.0     24\n",
            "9.0     16\n",
            "10.0    10\n",
            "11.0     5\n",
            "13.0     1\n",
            "14.0     1\n",
            "dtype: int64\n",
            "Traveler gender\n",
            "Female    70\n",
            "Male      67\n",
            "dtype: int64\n"
          ]
        }
      ]
    },
    {
      "cell_type": "code",
      "source": [
        "print(df.describe())"
      ],
      "metadata": {
        "colab": {
          "base_uri": "https://localhost:8080/"
        },
        "id": "uZk46ra5rlyi",
        "outputId": "259f791f-1768-4455-c4d5-f05e46bff3f8"
      },
      "execution_count": null,
      "outputs": [
        {
          "output_type": "stream",
          "name": "stdout",
          "text": [
            "          Trip ID  Duration (days)  Traveler age\n",
            "count  139.000000       137.000000    137.000000\n",
            "mean    70.000000         7.605839     33.175182\n",
            "std     40.269923         1.601276      7.145441\n",
            "min      1.000000         5.000000     20.000000\n",
            "25%     35.500000         7.000000     28.000000\n",
            "50%     70.000000         7.000000     31.000000\n",
            "75%    104.500000         8.000000     38.000000\n",
            "max    139.000000        14.000000     60.000000\n"
          ]
        }
      ]
    },
    {
      "cell_type": "code",
      "source": [
        "#membuat plot univariat\n",
        "import matplotlib.pyplot as plt\n",
        "df.plot(kind='box', subplots=True, layout=(2,2), sharex=False, sharey=False)\n",
        "plt.show()"
      ],
      "metadata": {
        "colab": {
          "base_uri": "https://localhost:8080/",
          "height": 265
        },
        "id": "bmfNXMJqrrIn",
        "outputId": "1bc7be5b-9bf7-49ce-c208-6e683a0b7210"
      },
      "execution_count": null,
      "outputs": [
        {
          "output_type": "display_data",
          "data": {
            "text/plain": [
              "<Figure size 432x288 with 4 Axes>"
            ],
            "image/png": "[encoded data removed]"
          },
          "metadata": {
            "needs_background": "light"
          }
        }
      ]
    },
    {
      "cell_type": "code",
      "source": [
        "#membuat histogram\n",
        "df.hist()\n",
        "plt.show()"
      ],
      "metadata": {
        "colab": {
          "base_uri": "https://localhost:8080/",
          "height": 281
        },
        "id": "rfCxyPjsryq9",
        "outputId": "6a4f7820-005b-45ef-a6c6-c0ab96eb7fa5"
      },
      "execution_count": null,
      "outputs": [
        {
          "output_type": "display_data",
          "data": {
            "text/plain": [
              "<Figure size 432x288 with 4 Axes>"
            ],
            "image/png": "[encoded data removed]"
          },
          "metadata": {
            "needs_background": "light"
          }
        }
      ]
    },
    {
      "cell_type": "code",
      "source": [
        "from pandas.plotting import scatter_matrix\n",
        "scatter_matrix(df)\n",
        "plt.show()"
      ],
      "metadata": {
        "colab": {
          "base_uri": "https://localhost:8080/",
          "height": 284
        },
        "id": "j3M4Nv6_r3mv",
        "outputId": "38cd626e-9fa5-4430-8439-9fa4a6b2209e"
      },
      "execution_count": null,
      "outputs": [
        {
          "output_type": "display_data",
          "data": {
            "text/plain": [
              "<Figure size 432x288 with 9 Axes>"
            ],
            "image/png": "[encoded data removed]"
          },
          "metadata": {
            "needs_background": "light"
          }
        }
      ]
    },
    {
      "cell_type": "code",
      "source": [
        "traveler = df.groupby('Accommodation type')['Duration (days)'].sum().reset_index()\n",
        "print(traveler)\n",
        "plt.figure(figsize=(15,8))\n",
        "plt.plot(traveler['Accommodation type'], traveler['Duration (days)'])"
      ],
      "metadata": {
        "colab": {
          "base_uri": "https://localhost:8080/",
          "height": 525
        },
        "id": "Sb25TYTytSXk",
        "outputId": "49789d2a-73db-428d-cfeb-0e3464b96348"
      },
      "execution_count": null,
      "outputs": [
        {
          "output_type": "stream",
          "name": "stdout",
          "text": [
            "  Accommodation type  Duration (days)\n",
            "0             Airbnb            233.0\n",
            "1         Guesthouse              9.0\n",
            "2             Hostel            199.0\n",
            "3              Hotel            433.0\n",
            "4             Resort            108.0\n",
            "5               Riad              7.0\n",
            "6    Vacation rental             22.0\n",
            "7              Villa             31.0\n"
          ]
        },
        {
          "output_type": "execute_result",
          "data": {
            "text/plain": [
              "[<matplotlib.lines.Line2D at 0x7f8c4cab4250>]"
            ]
          },
          "metadata": {},
          "execution_count": 44
        },
        {
          "output_type": "display_data",
          "data": {
            "text/plain": [
              "<Figure size 1080x576 with 1 Axes>"
            ],
            "image/png": "[encoded data removed]"
          },
          "metadata": {
            "needs_background": "light"
          }
        }
      ]
    }
  ]
}